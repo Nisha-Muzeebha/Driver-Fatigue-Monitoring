{
 "cells": [
  {
   "cell_type": "code",
   "execution_count": 2,
   "id": "8e334eb6",
   "metadata": {},
   "outputs": [],
   "source": [
    "import numpy as np \n",
    "import pandas as pd \n",
    "import os\n",
    "import cv2\n",
    "import matplotlib.pyplot as plt\n",
    "from sklearn.preprocessing import LabelBinarizer\n",
    "from tensorflow.keras.layers import Input, Lambda, Dense, Flatten, Conv2D, MaxPooling2D, Dropout\n",
    "from tensorflow.keras.models import Model\n",
    "from tensorflow.keras.models import Sequential\n",
    "from keras_preprocessing.image import ImageDataGenerator\n",
    "import tensorflow as tf"
   ]
  },
  {
   "cell_type": "code",
   "execution_count": 7,
   "id": "8cd46a1d",
   "metadata": {},
   "outputs": [],
   "source": [
    "labels = os.listdir(r\"D:/Backup - 1/Kalaiyarasi/Driver Drowsiness/train\")\n",
    "\n",
    "\n",
    "def get_data(dir_path=r\"D:/Backup - 1/Kalaiyarasi/Driver Drowsiness/train\", face_cas=r\"D:/Backup - 1/Kalaiyarasi/Driver Drowsiness/Required_files/haarcascade_frontalface_default.xml\", eye_cas=r\"D:/Backup - 1/Kalaiyarasi/Driver Drowsiness/Required_files/haarcascade.xml\"):\n",
    "    labels = ['Closed', 'Open']\n",
    "    IMG_SIZE = 145\n",
    "    data = []\n",
    "    for label in labels:\n",
    "        path = os.path.join(dir_path, label)\n",
    "        class_num = labels.index(label)\n",
    "        class_num +=2\n",
    "        for img in os.listdir(path):\n",
    "            try:\n",
    "                img_array = cv2.imread(os.path.join(path, img), cv2.IMREAD_COLOR)\n",
    "                resized_array = cv2.resize(img_array, (IMG_SIZE, IMG_SIZE))\n",
    "                data.append([resized_array, class_num])\n",
    "            except Exception as e:\n",
    "                print(e)\n",
    "    return data\n",
    "\n",
    "data_train = get_data()"
   ]
  },
  {
   "cell_type": "code",
   "execution_count": 36,
   "id": "633587e3",
   "metadata": {},
   "outputs": [
    {
     "data": {
      "image/png": "[encoded data removed]",
      "text/plain": [
       "<Figure size 2000x2000 with 1452 Axes>"
      ]
     },
     "metadata": {},
     "output_type": "display_data"
    }
   ],
   "source": [
    "import os\n",
    "import random\n",
    "import matplotlib.pyplot as plt\n",
    "from PIL import Image\n",
    "\n",
    "# Directory containing your images\n",
    "image_dir = \"D:/Backup - 1/Kalaiyarasi/Driver Drowsiness/train\"\n",
    "\n",
    "# List to store image file paths\n",
    "image_paths = []\n",
    "\n",
    "# Recursively search for image files in all subdirectories\n",
    "for root, dirs, files in os.walk(image_dir):\n",
    "    for file in files:\n",
    "        if file.endswith(\".jpg\") or file.endswith(\".png\"):\n",
    "            image_paths.append(os.path.join(root, file))\n",
    "\n",
    "# Shuffle the list of image paths\n",
    "random.shuffle(image_paths)\n",
    "\n",
    "# Plot the images\n",
    "fig, axs = plt.subplots(1, len(image_paths), figsize=(20, 20))\n",
    "for i, image_path in enumerate(image_paths):\n",
    "    img = Image.open(image_path)\n",
    "    img = img.resize((100, 100))  # Resize the image if needed\n",
    "    axs[i].imshow(img)\n",
    "    axs[i].set_title(os.path.basename(image_path))  # Set the title to the filename\n",
    "    axs[i].axis('off')  # Turn off axis labels\n",
    "plt.show()\n",
    "\n"
   ]
  },
  {
   "cell_type": "code",
   "execution_count": 14,
   "id": "b7b9c229",
   "metadata": {},
   "outputs": [],
   "source": [
    "def append_data():\n",
    "    data = data_train\n",
    "    #print(data)\n",
    "    return data\n",
    "\n",
    "new_data = append_data()"
   ]
  },
  {
   "cell_type": "code",
   "execution_count": 15,
   "id": "c86b4af7",
   "metadata": {},
   "outputs": [],
   "source": [
    "X = []\n",
    "y = []\n",
    "for feature, label in new_data:\n",
    "    X.append(feature)\n",
    "    y.append(label)\n"
   ]
  },
  {
   "cell_type": "code",
   "execution_count": 16,
   "id": "009e37ea",
   "metadata": {},
   "outputs": [],
   "source": [
    "X = np.array(X)\n",
    "X = X.reshape(-1, 145, 145, 3)\n",
    "\n",
    "label_bin = LabelBinarizer()\n",
    "y = label_bin.fit_transform(y)\n",
    "\n",
    "y = np.array(y)"
   ]
  },
  {
   "cell_type": "code",
   "execution_count": 17,
   "id": "e416ae36",
   "metadata": {},
   "outputs": [
    {
     "data": {
      "text/plain": [
       "436"
      ]
     },
     "execution_count": 17,
     "metadata": {},
     "output_type": "execute_result"
    }
   ],
   "source": [
    "from sklearn.model_selection import train_test_split\n",
    "seed = 42\n",
    "test_size = 0.30\n",
    "X_train, X_test, y_train, y_test = train_test_split(X, y, random_state=seed, test_size=test_size)\n",
    "\n",
    "len(X_test)\n"
   ]
  },
  {
   "cell_type": "code",
   "execution_count": 18,
   "id": "a7212c0d",
   "metadata": {},
   "outputs": [],
   "source": [
    "train_generator = ImageDataGenerator(rescale=1/255, zoom_range=0.2, horizontal_flip=True, rotation_range=30)\n",
    "test_generator = ImageDataGenerator(rescale=1/255)\n",
    "\n",
    "\n",
    "train_generator = train_generator.flow(np.array(X_train), y_train, shuffle=False)\n",
    "test_generator = test_generator.flow(np.array(X_test), y_test, shuffle=False)"
   ]
  },
  {
   "cell_type": "code",
   "execution_count": 23,
   "id": "1a454996",
   "metadata": {},
   "outputs": [
    {
     "name": "stdout",
     "output_type": "stream",
     "text": [
      "Epoch 1/5\n",
      "\u001b[1m32/32\u001b[0m \u001b[32m━━━━━━━━━━━━━━━━━━━━\u001b[0m\u001b[37m\u001b[0m \u001b[1m244s\u001b[0m 7s/step - accuracy: 0.4984 - loss: 0.0000e+00 - val_accuracy: 0.4885 - val_loss: 0.0000e+00\n",
      "Epoch 2/5\n",
      "\u001b[1m32/32\u001b[0m \u001b[32m━━━━━━━━━━━━━━━━━━━━\u001b[0m\u001b[37m\u001b[0m \u001b[1m214s\u001b[0m 7s/step - accuracy: 0.4906 - loss: 0.0000e+00 - val_accuracy: 0.0000e+00 - val_loss: 0.0000e+00\n",
      "Epoch 3/5\n"
     ]
    },
    {
     "name": "stderr",
     "output_type": "stream",
     "text": [
      "C:\\Users\\Admin\\anaconda3\\Lib\\contextlib.py:155: UserWarning: Your input ran out of data; interrupting training. Make sure that your dataset or generator can generate at least `steps_per_epoch * epochs` batches. You may need to use the `.repeat()` function when building your dataset.\n",
      "  self.gen.throw(typ, value, traceback)\n"
     ]
    },
    {
     "name": "stdout",
     "output_type": "stream",
     "text": [
      "\u001b[1m32/32\u001b[0m \u001b[32m━━━━━━━━━━━━━━━━━━━━\u001b[0m\u001b[37m\u001b[0m \u001b[1m223s\u001b[0m 7s/step - accuracy: 0.5214 - loss: 0.0000e+00 - val_accuracy: 0.4885 - val_loss: 0.0000e+00\n",
      "Epoch 4/5\n",
      "\u001b[1m32/32\u001b[0m \u001b[32m━━━━━━━━━━━━━━━━━━━━\u001b[0m\u001b[37m\u001b[0m \u001b[1m209s\u001b[0m 6s/step - accuracy: 0.5201 - loss: 0.0000e+00 - val_accuracy: 0.0000e+00 - val_loss: 0.0000e+00\n",
      "Epoch 5/5\n",
      "\u001b[1m32/32\u001b[0m \u001b[32m━━━━━━━━━━━━━━━━━━━━\u001b[0m\u001b[37m\u001b[0m \u001b[1m222s\u001b[0m 7s/step - accuracy: 0.5094 - loss: 0.0000e+00 - val_accuracy: 0.4885 - val_loss: 0.0000e+00\n"
     ]
    },
    {
     "name": "stderr",
     "output_type": "stream",
     "text": [
      "WARNING:absl:You are saving your model as an HDF5 file via `model.save()` or `keras.saving.save_model(model)`. This file format is considered legacy. We recommend using instead the native Keras format, e.g. `model.save('my_model.keras')` or `keras.saving.save_model(model, 'my_model.keras')`. \n"
     ]
    }
   ],
   "source": [
    "model = Sequential()\n",
    "\n",
    "model.add(Conv2D(256, (3, 3), activation=\"relu\", input_shape=(145,145,3)))\n",
    "model.add(MaxPooling2D(2, 2))\n",
    "\n",
    "model.add(Conv2D(128, (3, 3), activation=\"relu\"))\n",
    "model.add(MaxPooling2D(2, 2))\n",
    "\n",
    "model.add(Conv2D(64, (3, 3), activation=\"relu\"))\n",
    "model.add(MaxPooling2D(2, 2))\n",
    "\n",
    "model.add(Conv2D(32, (3, 3), activation=\"relu\"))\n",
    "model.add(MaxPooling2D(2, 2))\n",
    "\n",
    "model.add(Flatten())\n",
    "model.add(Dropout(0.5))\n",
    "\n",
    "model.add(Dense(64, activation=\"relu\"))\n",
    "model.add(Dense(1, activation=\"softmax\"))\n",
    "\n",
    "model.compile(loss=\"categorical_crossentropy\", metrics=[\"accuracy\"], optimizer=\"adam\")\n",
    "\n",
    "history = model.fit(train_generator, epochs=5, validation_data=test_generator, shuffle=True, validation_steps=len(test_generator))\n",
    "\n",
    "\n",
    "model.save(\"drowiness_new6.h5\")"
   ]
  },
  {
   "cell_type": "code",
   "execution_count": null,
   "id": "a548c93a",
   "metadata": {},
   "outputs": [],
   "source": []
  }
 ],
 "metadata": {
  "kernelspec": {
   "display_name": "Python 3 (ipykernel)",
   "language": "python",
   "name": "python3"
  },
  "language_info": {
   "codemirror_mode": {
    "name": "ipython",
    "version": 3
   },
   "file_extension": ".py",
   "mimetype": "text/x-python",
   "name": "python",
   "nbconvert_exporter": "python",
   "pygments_lexer": "ipython3",
   "version": "3.11.5"
  }
 },
 "nbformat": 4,
 "nbformat_minor": 5
}
